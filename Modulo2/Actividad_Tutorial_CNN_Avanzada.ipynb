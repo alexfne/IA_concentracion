{
  "cells": [
    {
      "cell_type": "markdown",
      "metadata": {
        "id": "FC7oDjwusbFb"
      },
      "source": [
        "# Importar librerías"
      ]
    },
    {
      "cell_type": "code",
      "execution_count": 1,
      "metadata": {
        "id": "TN4ABfA0sTzc"
      },
      "outputs": [
        {
          "ename": "ModuleNotFoundError",
          "evalue": "No module named 'sklearn'",
          "output_type": "error",
          "traceback": [
            "\u001b[1;31m---------------------------------------------------------------------------\u001b[0m",
            "\u001b[1;31mModuleNotFoundError\u001b[0m                       Traceback (most recent call last)",
            "Cell \u001b[1;32mIn[1], line 9\u001b[0m\n\u001b[0;32m      6\u001b[0m \u001b[39mfrom\u001b[39;00m \u001b[39mPIL\u001b[39;00m \u001b[39mimport\u001b[39;00m Image\n\u001b[0;32m      7\u001b[0m \u001b[39mimport\u001b[39;00m \u001b[39mos\u001b[39;00m\n\u001b[1;32m----> 9\u001b[0m \u001b[39mfrom\u001b[39;00m \u001b[39msklearn\u001b[39;00m\u001b[39m.\u001b[39;00m\u001b[39mmodel_selection\u001b[39;00m \u001b[39mimport\u001b[39;00m train_test_split\n\u001b[0;32m     10\u001b[0m \u001b[39mfrom\u001b[39;00m \u001b[39mkeras\u001b[39;00m\u001b[39m.\u001b[39;00m\u001b[39mutils\u001b[39;00m \u001b[39mimport\u001b[39;00m to_categorical\n\u001b[0;32m     11\u001b[0m \u001b[39mfrom\u001b[39;00m \u001b[39mkeras\u001b[39;00m\u001b[39m.\u001b[39;00m\u001b[39mmodels\u001b[39;00m \u001b[39mimport\u001b[39;00m Sequential, load_model\n",
            "\u001b[1;31mModuleNotFoundError\u001b[0m: No module named 'sklearn'"
          ]
        }
      ],
      "source": [
        "import numpy as np\n",
        "import pandas as pd\n",
        "import matplotlib.pyplot as plt\n",
        "import cv2\n",
        "#import tensorflow as tf\n",
        "from PIL import Image\n",
        "import os\n",
        "\n",
        "from sklearn.model_selection import train_test_split\n",
        "from keras.utils import to_categorical\n",
        "from keras.models import Sequential, load_model\n",
        "from keras.layers import Conv2D, MaxPool2D, Dense, Flatten, Dropout"
      ]
    },
    {
      "cell_type": "markdown",
      "metadata": {
        "id": "Akcdh_GmshFQ"
      },
      "source": [
        "# Cargar dataset desde Kaggle"
      ]
    },
    {
      "cell_type": "code",
      "execution_count": null,
      "metadata": {
        "colab": {
          "base_uri": "https://localhost:8080/"
        },
        "id": "ZFrflYGesjdB",
        "outputId": "1e333eb9-0af2-4b4f-856a-f9a182bf4bc5"
      },
      "outputs": [
        {
          "name": "stdout",
          "output_type": "stream",
          "text": [
            "Looking in indexes: https://pypi.org/simple, https://us-python.pkg.dev/colab-wheels/public/simple/\n",
            "Requirement already satisfied: kaggle in /usr/local/lib/python3.10/dist-packages (1.5.13)\n",
            "Requirement already satisfied: six>=1.10 in /usr/local/lib/python3.10/dist-packages (from kaggle) (1.16.0)\n",
            "Requirement already satisfied: certifi in /usr/local/lib/python3.10/dist-packages (from kaggle) (2022.12.7)\n",
            "Requirement already satisfied: python-dateutil in /usr/local/lib/python3.10/dist-packages (from kaggle) (2.8.2)\n",
            "Requirement already satisfied: requests in /usr/local/lib/python3.10/dist-packages (from kaggle) (2.27.1)\n",
            "Requirement already satisfied: tqdm in /usr/local/lib/python3.10/dist-packages (from kaggle) (4.65.0)\n",
            "Requirement already satisfied: python-slugify in /usr/local/lib/python3.10/dist-packages (from kaggle) (8.0.1)\n",
            "Requirement already satisfied: urllib3 in /usr/local/lib/python3.10/dist-packages (from kaggle) (1.26.15)\n",
            "Requirement already satisfied: text-unidecode>=1.3 in /usr/local/lib/python3.10/dist-packages (from python-slugify->kaggle) (1.3)\n",
            "Requirement already satisfied: charset-normalizer~=2.0.0 in /usr/local/lib/python3.10/dist-packages (from requests->kaggle) (2.0.12)\n",
            "Requirement already satisfied: idna<4,>=2.5 in /usr/local/lib/python3.10/dist-packages (from requests->kaggle) (3.4)\n"
          ]
        }
      ],
      "source": [
        "! pip install kaggle"
      ]
    },
    {
      "cell_type": "code",
      "execution_count": null,
      "metadata": {
        "colab": {
          "base_uri": "https://localhost:8080/"
        },
        "id": "6BxkMCiEs-n9",
        "outputId": "a4172cae-750b-4550-9f5e-16e539d01e83"
      },
      "outputs": [
        {
          "name": "stdout",
          "output_type": "stream",
          "text": [
            "cp: cannot stat 'kaggle.json': No such file or directory\n",
            "chmod: cannot access '/root/.kaggle/kaggle.json': No such file or directory\n",
            "Traceback (most recent call last):\n",
            "  File \"/usr/local/bin/kaggle\", line 5, in <module>\n",
            "    from kaggle.cli import main\n",
            "  File \"/usr/local/lib/python3.10/dist-packages/kaggle/__init__.py\", line 23, in <module>\n",
            "    api.authenticate()\n",
            "  File \"/usr/local/lib/python3.10/dist-packages/kaggle/api/kaggle_api_extended.py\", line 164, in authenticate\n",
            "    raise IOError('Could not find {}. Make sure it\\'s located in'\n",
            "OSError: Could not find kaggle.json. Make sure it's located in /root/.kaggle. Or use the environment method.\n"
          ]
        }
      ],
      "source": [
        "! mkdir ~/.kaggle\n",
        "! cp kaggle.json ~/.kaggle/\n",
        "! chmod 600 ~/.kaggle/kaggle.json\n",
        "! kaggle datasets download meowmeowmeowmeowmeow/gtsrb-german-traffic-sign"
      ]
    },
    {
      "cell_type": "code",
      "execution_count": null,
      "metadata": {
        "colab": {
          "base_uri": "https://localhost:8080/"
        },
        "id": "Icw-BwfhsvTC",
        "outputId": "0dc07d3e-c588-4926-c638-54af9c5981d0"
      },
      "outputs": [
        {
          "name": "stdout",
          "output_type": "stream",
          "text": [
            "unzip:  cannot find or open gtsrb-german-traffic-sign.zip, gtsrb-german-traffic-sign.zip.zip or gtsrb-german-traffic-sign.zip.ZIP.\n"
          ]
        }
      ],
      "source": [
        "! unzip gtsrb-german-traffic-sign.zip"
      ]
    },
    {
      "cell_type": "code",
      "execution_count": null,
      "metadata": {
        "colab": {
          "base_uri": "https://localhost:8080/",
          "height": 1000
        },
        "id": "Hky3KmhXfXt0",
        "outputId": "a8639bba-a6d4-4acc-bf27-00a138a94dd5"
      },
      "outputs": [
        {
          "name": "stdout",
          "output_type": "stream",
          "text": [
            "Looking in indexes: https://pypi.org/simple, https://us-python.pkg.dev/colab-wheels/public/simple/\n",
            "Collecting roboflow\n",
            "  Downloading roboflow-1.0.9-py3-none-any.whl (56 kB)\n",
            "\u001b[2K     \u001b[90m━━━━━━━━━━━━━━━━━━━━━━━━━━━━━━━━━━━━━━━━\u001b[0m \u001b[32m56.3/56.3 kB\u001b[0m \u001b[31m2.8 MB/s\u001b[0m eta \u001b[36m0:00:00\u001b[0m\n",
            "\u001b[?25hRequirement already satisfied: certifi==2022.12.7 in /usr/local/lib/python3.10/dist-packages (from roboflow) (2022.12.7)\n",
            "Requirement already satisfied: chardet==4.0.0 in /usr/local/lib/python3.10/dist-packages (from roboflow) (4.0.0)\n",
            "Collecting cycler==0.10.0 (from roboflow)\n",
            "  Downloading cycler-0.10.0-py2.py3-none-any.whl (6.5 kB)\n",
            "Collecting idna==2.10 (from roboflow)\n",
            "  Downloading idna-2.10-py2.py3-none-any.whl (58 kB)\n",
            "\u001b[2K     \u001b[90m━━━━━━━━━━━━━━━━━━━━━━━━━━━━━━━━━━━━━━━━\u001b[0m \u001b[32m58.8/58.8 kB\u001b[0m \u001b[31m7.8 MB/s\u001b[0m eta \u001b[36m0:00:00\u001b[0m\n",
            "\u001b[?25hRequirement already satisfied: kiwisolver>=1.3.1 in /usr/local/lib/python3.10/dist-packages (from roboflow) (1.4.4)\n",
            "Requirement already satisfied: matplotlib in /usr/local/lib/python3.10/dist-packages (from roboflow) (3.7.1)\n",
            "Requirement already satisfied: numpy>=1.18.5 in /usr/local/lib/python3.10/dist-packages (from roboflow) (1.22.4)\n",
            "Requirement already satisfied: opencv-python>=4.1.2 in /usr/local/lib/python3.10/dist-packages (from roboflow) (4.7.0.72)\n",
            "Requirement already satisfied: Pillow>=7.1.2 in /usr/local/lib/python3.10/dist-packages (from roboflow) (8.4.0)\n",
            "Collecting pyparsing==2.4.7 (from roboflow)\n",
            "  Downloading pyparsing-2.4.7-py2.py3-none-any.whl (67 kB)\n",
            "\u001b[2K     \u001b[90m━━━━━━━━━━━━━━━━━━━━━━━━━━━━━━━━━━━━━━━━\u001b[0m \u001b[32m67.8/67.8 kB\u001b[0m \u001b[31m6.0 MB/s\u001b[0m eta \u001b[36m0:00:00\u001b[0m\n",
            "\u001b[?25hRequirement already satisfied: python-dateutil in /usr/local/lib/python3.10/dist-packages (from roboflow) (2.8.2)\n",
            "Collecting python-dotenv (from roboflow)\n",
            "  Downloading python_dotenv-1.0.0-py3-none-any.whl (19 kB)\n",
            "Requirement already satisfied: requests in /usr/local/lib/python3.10/dist-packages (from roboflow) (2.27.1)\n",
            "Requirement already satisfied: six in /usr/local/lib/python3.10/dist-packages (from roboflow) (1.16.0)\n",
            "Requirement already satisfied: urllib3>=1.26.6 in /usr/local/lib/python3.10/dist-packages (from roboflow) (1.26.15)\n",
            "Collecting wget (from roboflow)\n",
            "  Downloading wget-3.2.zip (10 kB)\n",
            "  Preparing metadata (setup.py) ... \u001b[?25l\u001b[?25hdone\n",
            "Requirement already satisfied: tqdm>=4.41.0 in /usr/local/lib/python3.10/dist-packages (from roboflow) (4.65.0)\n",
            "Requirement already satisfied: PyYAML>=5.3.1 in /usr/local/lib/python3.10/dist-packages (from roboflow) (6.0)\n",
            "Collecting requests-toolbelt (from roboflow)\n",
            "  Downloading requests_toolbelt-1.0.0-py2.py3-none-any.whl (54 kB)\n",
            "\u001b[2K     \u001b[90m━━━━━━━━━━━━━━━━━━━━━━━━━━━━━━━━━━━━━━━━\u001b[0m \u001b[32m54.5/54.5 kB\u001b[0m \u001b[31m7.3 MB/s\u001b[0m eta \u001b[36m0:00:00\u001b[0m\n",
            "\u001b[?25hRequirement already satisfied: contourpy>=1.0.1 in /usr/local/lib/python3.10/dist-packages (from matplotlib->roboflow) (1.0.7)\n",
            "Requirement already satisfied: fonttools>=4.22.0 in /usr/local/lib/python3.10/dist-packages (from matplotlib->roboflow) (4.39.3)\n",
            "Requirement already satisfied: packaging>=20.0 in /usr/local/lib/python3.10/dist-packages (from matplotlib->roboflow) (23.1)\n",
            "Requirement already satisfied: charset-normalizer~=2.0.0 in /usr/local/lib/python3.10/dist-packages (from requests->roboflow) (2.0.12)\n",
            "Building wheels for collected packages: wget\n",
            "  Building wheel for wget (setup.py) ... \u001b[?25l\u001b[?25hdone\n",
            "  Created wheel for wget: filename=wget-3.2-py3-none-any.whl size=9657 sha256=e7a3c6961221c5b270852e00ee738c1ef5ed7157f155c449ccbc1c9633d74ba4\n",
            "  Stored in directory: /root/.cache/pip/wheels/8b/f1/7f/5c94f0a7a505ca1c81cd1d9208ae2064675d97582078e6c769\n",
            "Successfully built wget\n",
            "Installing collected packages: wget, python-dotenv, pyparsing, idna, cycler, requests-toolbelt, roboflow\n",
            "  Attempting uninstall: pyparsing\n",
            "    Found existing installation: pyparsing 3.0.9\n",
            "    Uninstalling pyparsing-3.0.9:\n",
            "      Successfully uninstalled pyparsing-3.0.9\n",
            "  Attempting uninstall: idna\n",
            "    Found existing installation: idna 3.4\n",
            "    Uninstalling idna-3.4:\n",
            "      Successfully uninstalled idna-3.4\n",
            "  Attempting uninstall: cycler\n",
            "    Found existing installation: cycler 0.11.0\n",
            "    Uninstalling cycler-0.11.0:\n",
            "      Successfully uninstalled cycler-0.11.0\n",
            "Successfully installed cycler-0.10.0 idna-2.10 pyparsing-2.4.7 python-dotenv-1.0.0 requests-toolbelt-1.0.0 roboflow-1.0.9 wget-3.2\n"
          ]
        },
        {
          "data": {
            "application/vnd.colab-display-data+json": {
              "pip_warning": {
                "packages": [
                  "cycler",
                  "idna",
                  "pyparsing"
                ]
              }
            }
          },
          "metadata": {},
          "output_type": "display_data"
        },
        {
          "name": "stdout",
          "output_type": "stream",
          "text": [
            "loading Roboflow workspace...\n",
            "loading Roboflow project...\n",
            "Downloading Dataset Version Zip in senales-1 to tfrecord: 100% [603712028 / 603712028] bytes\n"
          ]
        },
        {
          "name": "stderr",
          "output_type": "stream",
          "text": [
            "Extracting Dataset Version Zip to senales-1 in tfrecord:: 100%|██████████| 11/11 [00:04<00:00,  2.74it/s]\n"
          ]
        }
      ],
      "source": [
        "!pip install roboflow\n",
        "\n",
        "from roboflow import Roboflow\n",
        "rf = Roboflow(api_key=\"yBUb4IKwJjCNaRwLNCDE\")\n",
        "project = rf.workspace(\"signs-dratl\").project(\"senales-j49ok\")\n",
        "dataset = project.version(1).download(\"tfrecord\")\n"
      ]
    },
    {
      "cell_type": "markdown",
      "metadata": {
        "id": "PrJQbNFYtDY2"
      },
      "source": [
        "# Variables globales"
      ]
    },
    {
      "cell_type": "code",
      "execution_count": null,
      "metadata": {
        "id": "OwJpa8NHrCKL"
      },
      "outputs": [],
      "source": [
        "! unzip dataset.zip -d /content"
      ]
    },
    {
      "cell_type": "code",
      "execution_count": null,
      "metadata": {
        "colab": {
          "base_uri": "https://localhost:8080/"
        },
        "id": "hDOu7c00rBVo",
        "outputId": "7e9e0e7a-44dd-45f9-ceeb-85c8ac4ab8b8"
      },
      "outputs": [
        {
          "name": "stdout",
          "output_type": "stream",
          "text": [
            "/content/dataset\n",
            "construction  conv  forward  giveway  left  right  stop\n"
          ]
        }
      ],
      "source": [
        "%cd /content/dataset/\n",
        "! rm -rf 0\n",
        "! rm -rf 1\n",
        "! rm -rf 2\n",
        "! rm -rf 3\n",
        "! rm -rf 4\n",
        "! rm -rf 5\n",
        "! rm -rf 6\n",
        "! ls"
      ]
    },
    {
      "cell_type": "code",
      "execution_count": null,
      "metadata": {
        "colab": {
          "base_uri": "https://localhost:8080/"
        },
        "id": "l34tHyhwtF5m",
        "outputId": "daa5863a-0052-4a8e-f752-dd34967e6309"
      },
      "outputs": [
        {
          "name": "stdout",
          "output_type": "stream",
          "text": [
            "/content\n"
          ]
        }
      ],
      "source": [
        "data = []\n",
        "labels = []\n",
        "classes = 6\n",
        "cur_path = \"/content\"\n",
        "print(cur_path)"
      ]
    },
    {
      "cell_type": "markdown",
      "metadata": {
        "id": "eOo2RVXFtIg_"
      },
      "source": [
        "# Cargar dataset y prepararlo"
      ]
    },
    {
      "cell_type": "code",
      "execution_count": null,
      "metadata": {
        "colab": {
          "base_uri": "https://localhost:8080/",
          "height": 773
        },
        "id": "b0VdqRMvtMeW",
        "outputId": "2a2d041e-ec1b-4746-a316-6fc069e544df"
      },
      "outputs": [
        {
          "name": "stdout",
          "output_type": "stream",
          "text": [
            "/content/train/0\n",
            "Error loading image\n",
            "Error loading image\n",
            "Error loading image\n",
            "/content/train/1\n",
            "Error loading image\n",
            "Error loading image\n",
            "/content/train/2\n",
            "Error loading image\n",
            "Error loading image\n",
            "Error loading image\n",
            "/content/train/3\n",
            "Error loading image\n",
            "Error loading image\n",
            "Error loading image\n",
            "/content/train/4\n",
            "Error loading image\n",
            "Error loading image\n",
            "Error loading image\n",
            "/content/train/5\n",
            "Error loading image\n",
            "Error loading image\n",
            "Error loading image\n",
            "Error loading image\n",
            "/content/train/6\n",
            "Error loading image\n",
            "Error loading image\n",
            "Error loading image\n",
            "/content/train/7\n"
          ]
        },
        {
          "ename": "FileNotFoundError",
          "evalue": "ignored",
          "output_type": "error",
          "traceback": [
            "\u001b[0;31m---------------------------------------------------------------------------\u001b[0m",
            "\u001b[0;31mFileNotFoundError\u001b[0m                         Traceback (most recent call last)",
            "\u001b[0;32m<ipython-input-19-5aabd05cf7bc>\u001b[0m in \u001b[0;36m<cell line: 2>\u001b[0;34m()\u001b[0m\n\u001b[1;32m      3\u001b[0m     \u001b[0mpath\u001b[0m \u001b[0;34m=\u001b[0m \u001b[0mos\u001b[0m\u001b[0;34m.\u001b[0m\u001b[0mpath\u001b[0m\u001b[0;34m.\u001b[0m\u001b[0mjoin\u001b[0m\u001b[0;34m(\u001b[0m\u001b[0mcur_path\u001b[0m\u001b[0;34m,\u001b[0m\u001b[0;34m'train'\u001b[0m\u001b[0;34m,\u001b[0m\u001b[0mstr\u001b[0m\u001b[0;34m(\u001b[0m\u001b[0mi\u001b[0m\u001b[0;34m)\u001b[0m\u001b[0;34m)\u001b[0m\u001b[0;34m\u001b[0m\u001b[0;34m\u001b[0m\u001b[0m\n\u001b[1;32m      4\u001b[0m     \u001b[0mprint\u001b[0m\u001b[0;34m(\u001b[0m\u001b[0mpath\u001b[0m\u001b[0;34m)\u001b[0m\u001b[0;34m\u001b[0m\u001b[0;34m\u001b[0m\u001b[0m\n\u001b[0;32m----> 5\u001b[0;31m     \u001b[0mimages\u001b[0m \u001b[0;34m=\u001b[0m \u001b[0mos\u001b[0m\u001b[0;34m.\u001b[0m\u001b[0mlistdir\u001b[0m\u001b[0;34m(\u001b[0m\u001b[0mpath\u001b[0m\u001b[0;34m)\u001b[0m\u001b[0;34m\u001b[0m\u001b[0;34m\u001b[0m\u001b[0m\n\u001b[0m\u001b[1;32m      6\u001b[0m     \u001b[0;32mfor\u001b[0m \u001b[0ma\u001b[0m \u001b[0;32min\u001b[0m \u001b[0mimages\u001b[0m\u001b[0;34m:\u001b[0m\u001b[0;34m\u001b[0m\u001b[0;34m\u001b[0m\u001b[0m\n\u001b[1;32m      7\u001b[0m         \u001b[0;32mtry\u001b[0m\u001b[0;34m:\u001b[0m\u001b[0;34m\u001b[0m\u001b[0;34m\u001b[0m\u001b[0m\n",
            "\u001b[0;31mFileNotFoundError\u001b[0m: [Errno 2] No such file or directory: '/content/train/7'"
          ]
        }
      ],
      "source": [
        "#Retrieving the images and their labels\n",
        "for i in range(classes):\n",
        "    path = os.path.join(cur_path,'train',str(i))\n",
        "    print(path)\n",
        "    images = os.listdir(path)\n",
        "    for a in images:\n",
        "        try:\n",
        "            image = Image.open(path + '/'+ a)\n",
        "            image = image.resize((30,30))\n",
        "            image = np.array(image)\n",
        "            #sim = Image.fromarray(image)\n",
        "            data.append(image)\n",
        "            labels.append(i)\n",
        "        except:\n",
        "            print(\"Error loading image\")"
      ]
    },
    {
      "cell_type": "code",
      "execution_count": null,
      "metadata": {
        "colab": {
          "base_uri": "https://localhost:8080/",
          "height": 207
        },
        "id": "3BWE19jFvh7F",
        "outputId": "9b12e59d-562e-42a9-feb7-57ff2829f986"
      },
      "outputs": [
        {
          "ename": "NameError",
          "evalue": "ignored",
          "output_type": "error",
          "traceback": [
            "\u001b[0;31m---------------------------------------------------------------------------\u001b[0m",
            "\u001b[0;31mNameError\u001b[0m                                 Traceback (most recent call last)",
            "\u001b[0;32m<ipython-input-2-f958d573ac5c>\u001b[0m in \u001b[0;36m<cell line: 2>\u001b[0;34m()\u001b[0m\n\u001b[1;32m      1\u001b[0m \u001b[0;31m#Converting lists into numpy arrays\u001b[0m\u001b[0;34m\u001b[0m\u001b[0;34m\u001b[0m\u001b[0m\n\u001b[0;32m----> 2\u001b[0;31m \u001b[0mdata\u001b[0m \u001b[0;34m=\u001b[0m \u001b[0mnp\u001b[0m\u001b[0;34m.\u001b[0m\u001b[0marray\u001b[0m\u001b[0;34m(\u001b[0m\u001b[0mdata\u001b[0m\u001b[0;34m)\u001b[0m\u001b[0;34m\u001b[0m\u001b[0;34m\u001b[0m\u001b[0m\n\u001b[0m\u001b[1;32m      3\u001b[0m \u001b[0mlabels\u001b[0m \u001b[0;34m=\u001b[0m \u001b[0mnp\u001b[0m\u001b[0;34m.\u001b[0m\u001b[0marray\u001b[0m\u001b[0;34m(\u001b[0m\u001b[0mlabels\u001b[0m\u001b[0;34m)\u001b[0m\u001b[0;34m\u001b[0m\u001b[0;34m\u001b[0m\u001b[0m\n",
            "\u001b[0;31mNameError\u001b[0m: name 'np' is not defined"
          ]
        }
      ],
      "source": [
        "#Converting lists into numpy arrays\n",
        "data = np.array(data)\n",
        "labels = np.array(labels)"
      ]
    },
    {
      "cell_type": "code",
      "execution_count": null,
      "metadata": {
        "colab": {
          "base_uri": "https://localhost:8080/"
        },
        "id": "kBUjN7GFvlGc",
        "outputId": "d775e90f-7dc2-4e55-a2f6-be0aa001c022"
      },
      "outputs": [
        {
          "name": "stdout",
          "output_type": "stream",
          "text": [
            "(39209, 30, 30, 3) (39209,)\n"
          ]
        }
      ],
      "source": [
        "print(data.shape, labels.shape)\n",
        "#Splitting training and testing dataset\n",
        "X_train, X_test, y_train, y_test = train_test_split(data, labels,\n",
        "                                                    test_size=0.2,\n",
        "                                                    random_state=42)"
      ]
    },
    {
      "cell_type": "code",
      "execution_count": null,
      "metadata": {
        "colab": {
          "base_uri": "https://localhost:8080/"
        },
        "id": "geNwj0iwvtwD",
        "outputId": "2db027cd-3e18-4189-cbb2-5e4dd9f079e2"
      },
      "outputs": [
        {
          "name": "stdout",
          "output_type": "stream",
          "text": [
            "(31367, 30, 30, 3) (7842, 30, 30, 3) (31367,) (7842,)\n"
          ]
        }
      ],
      "source": [
        "print(X_train.shape, X_test.shape, y_train.shape, y_test.shape)"
      ]
    },
    {
      "cell_type": "code",
      "execution_count": null,
      "metadata": {
        "id": "qj-E8AFMvvl0"
      },
      "outputs": [],
      "source": [
        "#Converting the labels into one hot encoding\n",
        "y_train = to_categorical(y_train, 43)\n",
        "y_test = to_categorical(y_test, 43)"
      ]
    },
    {
      "cell_type": "markdown",
      "metadata": {
        "id": "ijVjLD5GvxIE"
      },
      "source": [
        "# Visualizar datos de entrenamiento"
      ]
    },
    {
      "cell_type": "code",
      "execution_count": null,
      "metadata": {
        "id": "aqQo5Ou1vzYk"
      },
      "outputs": [],
      "source": [
        "import matplotlib.pyplot as plt\n",
        "fig, axes = plt.subplots(10,10, figsize=(30,30))\n",
        "for i,ax in enumerate(axes.flat):\n",
        "    ax.imshow(X_train[i])\n"
      ]
    },
    {
      "cell_type": "markdown",
      "metadata": {
        "id": "VwYKoQwYv3Tl"
      },
      "source": [
        "# Creación del modelo y entrenamiento"
      ]
    },
    {
      "cell_type": "code",
      "execution_count": null,
      "metadata": {
        "id": "JaBVas1nv7f2"
      },
      "outputs": [],
      "source": [
        "#Building the model\n",
        "model = Sequential()\n",
        "model.add(Conv2D(filters=32, kernel_size=(5,5), activation='relu',\n",
        "                input_shape=X_train.shape[1:]))\n",
        "model.add(Conv2D(filters=32, kernel_size=(5,5), activation='relu'))\n",
        "model.add(MaxPool2D(pool_size=(2, 2)))\n",
        "model.add(Dropout(rate=0.25))\n",
        "model.add(Conv2D(filters=64, kernel_size=(3, 3), activation='relu'))\n",
        "model.add(Conv2D(filters=64, kernel_size=(3, 3), activation='relu'))\n",
        "model.add(MaxPool2D(pool_size=(2, 2)))\n",
        "model.add(Dropout(rate=0.25))\n",
        "model.add(Flatten())\n",
        "model.add(Dense(256, activation='relu'))\n",
        "model.add(Dropout(rate=0.5))\n",
        "model.add(Dense(43, activation='softmax'))"
      ]
    },
    {
      "cell_type": "code",
      "execution_count": null,
      "metadata": {
        "id": "w6tv20i6wCmQ"
      },
      "outputs": [],
      "source": [
        "#Compilation of the model\n",
        "model.compile(loss='categorical_crossentropy', optimizer='adam', metrics=['accuracy'])"
      ]
    },
    {
      "cell_type": "code",
      "execution_count": null,
      "metadata": {
        "colab": {
          "base_uri": "https://localhost:8080/"
        },
        "id": "WDrrftMpwFKP",
        "outputId": "3969f85f-5229-451d-d7d9-f714a2c29c2a"
      },
      "outputs": [
        {
          "name": "stdout",
          "output_type": "stream",
          "text": [
            "Epoch 1/15\n",
            "981/981 [==============================] - 20s 8ms/step - loss: 2.1886 - accuracy: 0.4518 - val_loss: 0.7118 - val_accuracy: 0.8281\n",
            "Epoch 2/15\n",
            "981/981 [==============================] - 6s 6ms/step - loss: 0.8750 - accuracy: 0.7368 - val_loss: 0.3449 - val_accuracy: 0.9046\n",
            "Epoch 3/15\n",
            "981/981 [==============================] - 7s 7ms/step - loss: 0.5869 - accuracy: 0.8235 - val_loss: 0.1902 - val_accuracy: 0.9413\n",
            "Epoch 4/15\n",
            "981/981 [==============================] - 6s 7ms/step - loss: 0.4311 - accuracy: 0.8701 - val_loss: 0.2073 - val_accuracy: 0.9375\n",
            "Epoch 5/15\n",
            "981/981 [==============================] - 7s 7ms/step - loss: 0.3607 - accuracy: 0.8919 - val_loss: 0.1572 - val_accuracy: 0.9570\n",
            "Epoch 6/15\n",
            "981/981 [==============================] - 6s 6ms/step - loss: 0.3451 - accuracy: 0.8979 - val_loss: 0.1070 - val_accuracy: 0.9681\n",
            "Epoch 7/15\n",
            "981/981 [==============================] - 8s 8ms/step - loss: 0.3034 - accuracy: 0.9110 - val_loss: 0.1044 - val_accuracy: 0.9700\n",
            "Epoch 8/15\n",
            "981/981 [==============================] - 8s 8ms/step - loss: 0.2803 - accuracy: 0.9177 - val_loss: 0.1972 - val_accuracy: 0.9434\n",
            "Epoch 9/15\n",
            "981/981 [==============================] - 7s 8ms/step - loss: 0.2800 - accuracy: 0.9197 - val_loss: 0.0922 - val_accuracy: 0.9726\n",
            "Epoch 10/15\n",
            "981/981 [==============================] - 7s 7ms/step - loss: 0.2610 - accuracy: 0.9233 - val_loss: 0.0700 - val_accuracy: 0.9827\n",
            "Epoch 11/15\n",
            "981/981 [==============================] - 7s 7ms/step - loss: 0.2442 - accuracy: 0.9297 - val_loss: 0.0795 - val_accuracy: 0.9774\n",
            "Epoch 12/15\n",
            "981/981 [==============================] - 11s 11ms/step - loss: 0.2398 - accuracy: 0.9319 - val_loss: 0.0770 - val_accuracy: 0.9792\n",
            "Epoch 13/15\n",
            "981/981 [==============================] - 9s 9ms/step - loss: 0.2202 - accuracy: 0.9378 - val_loss: 0.0622 - val_accuracy: 0.9828\n",
            "Epoch 14/15\n",
            "981/981 [==============================] - 6s 6ms/step - loss: 0.2337 - accuracy: 0.9351 - val_loss: 0.0796 - val_accuracy: 0.9777\n",
            "Epoch 15/15\n",
            "981/981 [==============================] - 7s 7ms/step - loss: 0.2099 - accuracy: 0.9403 - val_loss: 0.0662 - val_accuracy: 0.9807\n"
          ]
        }
      ],
      "source": [
        "#Train & save model\n",
        "epochs = 15\n",
        "history = model.fit(X_train, y_train, batch_size=32, epochs=epochs,\n",
        "                    validation_data=(X_test, y_test))\n",
        "model.save(\"my_model.h5\")"
      ]
    },
    {
      "cell_type": "markdown",
      "metadata": {
        "id": "0s-rvhPGwLEK"
      },
      "source": [
        "# Evaluación del modelo entrenado"
      ]
    },
    {
      "cell_type": "code",
      "execution_count": null,
      "metadata": {
        "colab": {
          "base_uri": "https://localhost:8080/",
          "height": 472
        },
        "id": "nOvA0kQswOkq",
        "outputId": "71af11f9-dd0c-4aab-8c11-270889806625"
      },
      "outputs": [
        {
          "data": {
            "image/png": "[encoded data removed]",
            "text/plain": [
              "<Figure size 640x480 with 1 Axes>"
            ]
          },
          "metadata": {},
          "output_type": "display_data"
        }
      ],
      "source": [
        "#plotting graphs for accuracy\n",
        "plt.figure(0)\n",
        "plt.plot(history.history['accuracy'], label='training accuracy')\n",
        "plt.plot(history.history['val_accuracy'], label='val accuracy')\n",
        "plt.title('Accuracy')\n",
        "plt.xlabel('epochs')\n",
        "plt.ylabel('accuracy')\n",
        "plt.legend()\n",
        "plt.show()"
      ]
    },
    {
      "cell_type": "code",
      "execution_count": null,
      "metadata": {
        "colab": {
          "base_uri": "https://localhost:8080/",
          "height": 489
        },
        "id": "e5bdwuBhwQuZ",
        "outputId": "3c31d2a2-bffb-4814-d9aa-1da5141f05f2"
      },
      "outputs": [
        {
          "data": {
            "text/plain": [
              "Text(0, 0.5, 'loss')"
            ]
          },
          "execution_count": 17,
          "metadata": {},
          "output_type": "execute_result"
        },
        {
          "data": {
            "image/png": "[encoded data removed]",
            "text/plain": [
              "<Figure size 640x480 with 1 Axes>"
            ]
          },
          "metadata": {},
          "output_type": "display_data"
        }
      ],
      "source": [
        "#Plot loss\n",
        "plt.figure(1)\n",
        "plt.plot(history.history['loss'], label='training loss')\n",
        "plt.plot(history.history['val_loss'], label='val loss')\n",
        "plt.title('Loss')\n",
        "plt.xlabel('epochs')\n",
        "plt.ylabel('loss')"
      ]
    },
    {
      "cell_type": "markdown",
      "metadata": {
        "id": "hSILYTQgwTIJ"
      },
      "source": [
        "# Vericar con dataset de pruebas"
      ]
    },
    {
      "cell_type": "code",
      "execution_count": null,
      "metadata": {
        "id": "S8YBaiwMwWqL"
      },
      "outputs": [],
      "source": [
        "#testing accuracy on test dataset\n",
        "from sklearn.metrics import accuracy_score\n",
        "y_test = pd.read_csv('Test.csv')\n",
        "labels = y_test[\"ClassId\"].values\n",
        "imgs = y_test[\"Path\"].values\n",
        "\n",
        "data=[]\n",
        "for img in imgs:\n",
        "    image = Image.open(img)\n",
        "    image = image.resize((30,30))\n",
        "    data.append(np.array(image))\n",
        "X_test=np.array(data)"
      ]
    },
    {
      "cell_type": "code",
      "execution_count": null,
      "metadata": {
        "colab": {
          "base_uri": "https://localhost:8080/"
        },
        "id": "QC8Wq3AJwkkM",
        "outputId": "bd0325d1-125a-4288-ea98-615f2f4fb37f"
      },
      "outputs": [
        {
          "name": "stdout",
          "output_type": "stream",
          "text": [
            "395/395 [==============================] - 1s 2ms/step\n"
          ]
        }
      ],
      "source": [
        "pred = (model.predict(X_test) > 0.8).astype(\"int32\")\n"
      ]
    },
    {
      "cell_type": "code",
      "execution_count": null,
      "metadata": {
        "colab": {
          "base_uri": "https://localhost:8080/"
        },
        "id": "1jq3jLYjwlME",
        "outputId": "20e78cd6-cf48-41a7-c4d0-5d98fdc5ff28"
      },
      "outputs": [
        {
          "name": "stdout",
          "output_type": "stream",
          "text": [
            "[16  1 38 ...  6  7 10]\n"
          ]
        }
      ],
      "source": [
        "print(labels)"
      ]
    },
    {
      "cell_type": "code",
      "execution_count": null,
      "metadata": {
        "colab": {
          "base_uri": "https://localhost:8080/"
        },
        "id": "TaU41CMvwpqN",
        "outputId": "d09d5fae-5bda-4b8d-b53c-6b00ab0f596a"
      },
      "outputs": [
        {
          "name": "stdout",
          "output_type": "stream",
          "text": [
            "395/395 [==============================] - 1s 2ms/step\n"
          ]
        }
      ],
      "source": [
        "# testing accuracy on test dataset\n",
        "from sklearn.metrics import accuracy_score\n",
        "\n",
        "# Importing the test dataset\n",
        "y_test = pd.read_csv('Test.csv')\n",
        "\n",
        "labels = y_test[\"ClassId\"].values\n",
        "imgs = y_test[\"Path\"].values\n",
        "\n",
        "data = []\n",
        "\n",
        "for img in imgs:\n",
        "    image = Image.open(img)\n",
        "    image = image.resize([30, 30])\n",
        "    data.append(np.array(image))\n",
        "\n",
        "X_test=np.array(data)\n",
        "\n",
        "pred = np.argmax(model.predict(X_test), axis=-1)\n"
      ]
    },
    {
      "cell_type": "code",
      "execution_count": null,
      "metadata": {
        "colab": {
          "base_uri": "https://localhost:8080/"
        },
        "id": "UM3gpBUUwy6u",
        "outputId": "c5c6fd1c-7c05-47ba-f3bd-4c857bf6442a"
      },
      "outputs": [
        {
          "name": "stdout",
          "output_type": "stream",
          "text": [
            "0.9439429928741092\n"
          ]
        }
      ],
      "source": [
        "#Accuracy with the test data\n",
        "from sklearn.metrics import accuracy_score\n",
        "print(accuracy_score(labels, pred))"
      ]
    },
    {
      "cell_type": "markdown",
      "metadata": {
        "id": "0f14xqGXw0dO"
      },
      "source": [
        "# Reporte de clasicación"
      ]
    },
    {
      "cell_type": "code",
      "execution_count": null,
      "metadata": {
        "colab": {
          "base_uri": "https://localhost:8080/"
        },
        "id": "7Z27adRHw2k2",
        "outputId": "bfb3c138-565e-430c-98d7-a3c17e03241f"
      },
      "outputs": [
        {
          "name": "stdout",
          "output_type": "stream",
          "text": [
            "              precision    recall  f1-score   support\n",
            "\n",
            "           0       1.00      0.97      0.98        60\n",
            "           1       0.94      0.95      0.95       720\n",
            "           2       0.92      0.99      0.95       750\n",
            "           3       0.95      0.93      0.94       450\n",
            "           4       0.97      0.97      0.97       660\n",
            "           5       0.94      0.89      0.91       630\n",
            "           6       1.00      0.82      0.90       150\n",
            "           7       1.00      0.91      0.95       450\n",
            "           8       0.92      0.96      0.94       450\n",
            "           9       0.96      0.99      0.97       480\n",
            "          10       0.94      0.98      0.96       660\n",
            "          11       0.98      0.96      0.97       420\n",
            "          12       0.98      0.97      0.98       690\n",
            "          13       0.99      0.99      0.99       720\n",
            "          14       1.00      1.00      1.00       270\n",
            "          15       0.86      0.99      0.92       210\n",
            "          16       0.97      0.99      0.98       150\n",
            "          17       0.99      0.94      0.97       360\n",
            "          18       0.94      0.85      0.89       390\n",
            "          19       0.98      0.72      0.83        60\n",
            "          20       0.85      0.94      0.89        90\n",
            "          21       0.78      0.63      0.70        90\n",
            "          22       0.98      0.98      0.98       120\n",
            "          23       0.93      0.84      0.88       150\n",
            "          24       0.78      0.77      0.77        90\n",
            "          25       0.92      0.96      0.94       480\n",
            "          26       0.90      0.78      0.84       180\n",
            "          27       0.54      0.50      0.52        60\n",
            "          28       0.90      0.97      0.93       150\n",
            "          29       0.88      0.93      0.91        90\n",
            "          30       0.84      0.72      0.78       150\n",
            "          31       0.84      0.97      0.90       270\n",
            "          32       0.85      1.00      0.92        60\n",
            "          33       0.89      1.00      0.94       210\n",
            "          34       0.98      0.99      0.99       120\n",
            "          35       1.00      0.98      0.99       390\n",
            "          36       0.96      0.97      0.97       120\n",
            "          37       0.79      0.88      0.83        60\n",
            "          38       0.99      0.98      0.99       690\n",
            "          39       0.96      0.96      0.96        90\n",
            "          40       0.87      0.82      0.85        90\n",
            "          41       0.98      0.73      0.84        60\n",
            "          42       0.95      0.93      0.94        90\n",
            "\n",
            "    accuracy                           0.94     12630\n",
            "   macro avg       0.92      0.91      0.91     12630\n",
            "weighted avg       0.94      0.94      0.94     12630\n",
            "\n"
          ]
        }
      ],
      "source": [
        "from sklearn.metrics import classification_report\n",
        "print(classification_report(labels, pred))"
      ]
    },
    {
      "cell_type": "markdown",
      "metadata": {
        "id": "NLTS5o0CybHy"
      },
      "source": [
        "# MEJORAS ---------------------------------------------------------"
      ]
    },
    {
      "cell_type": "markdown",
      "metadata": {
        "id": "VEcGg-z8yvA-"
      },
      "source": [
        "# Creación del modelo y entrenamiento"
      ]
    },
    {
      "cell_type": "code",
      "execution_count": null,
      "metadata": {
        "colab": {
          "base_uri": "https://localhost:8080/"
        },
        "id": "SK00d9WG0bbt",
        "outputId": "9e8f97f2-7e67-4334-98ad-b01a21f14b6d"
      },
      "outputs": [
        {
          "name": "stdout",
          "output_type": "stream",
          "text": [
            "(12630, 30, 30, 3) (12630,)\n",
            "(10104, 30, 30, 3) (2526, 30, 30, 3) (10104,) (2526,)\n"
          ]
        }
      ],
      "source": [
        "#Converting lists into numpy arrays\n",
        "data = np.array(data)\n",
        "labels = np.array(labels)\n",
        "\n",
        "print(data.shape, labels.shape)\n",
        "#Splitting training and testing dataset\n",
        "X_train, X_test, y_train, y_test = train_test_split(data, labels,\n",
        "                                                    test_size=0.2,\n",
        "                                                    random_state=42)\n",
        "\n",
        "print(X_train.shape, X_test.shape, y_train.shape, y_test.shape)\n",
        "\n",
        "#Converting the labels into one hot encoding\n",
        "y_train = to_categorical(y_train, 43)\n",
        "y_test = to_categorical(y_test, 43)"
      ]
    },
    {
      "cell_type": "code",
      "execution_count": null,
      "metadata": {
        "colab": {
          "base_uri": "https://localhost:8080/",
          "height": 432
        },
        "id": "7Cjuc-AvyvA_",
        "outputId": "f18f3173-371f-41ee-adda-fbc6b2e8d98a"
      },
      "outputs": [
        {
          "ename": "ValueError",
          "evalue": "ignored",
          "output_type": "error",
          "traceback": [
            "\u001b[0;31m---------------------------------------------------------------------------\u001b[0m",
            "\u001b[0;31mValueError\u001b[0m                                Traceback (most recent call last)",
            "\u001b[0;32m<ipython-input-70-af336f4a9ef3>\u001b[0m in \u001b[0;36m<cell line: 14>\u001b[0;34m()\u001b[0m\n\u001b[1;32m     12\u001b[0m \u001b[0mmodel\u001b[0m\u001b[0;34m.\u001b[0m\u001b[0madd\u001b[0m\u001b[0;34m(\u001b[0m\u001b[0mDropout\u001b[0m\u001b[0;34m(\u001b[0m\u001b[0mrate\u001b[0m\u001b[0;34m=\u001b[0m\u001b[0;36m0.25\u001b[0m\u001b[0;34m)\u001b[0m\u001b[0;34m)\u001b[0m\u001b[0;34m\u001b[0m\u001b[0;34m\u001b[0m\u001b[0m\n\u001b[1;32m     13\u001b[0m \u001b[0;34m\u001b[0m\u001b[0m\n\u001b[0;32m---> 14\u001b[0;31m \u001b[0mmodel\u001b[0m\u001b[0;34m.\u001b[0m\u001b[0madd\u001b[0m\u001b[0;34m(\u001b[0m\u001b[0mConv2D\u001b[0m\u001b[0;34m(\u001b[0m\u001b[0mfilters\u001b[0m\u001b[0;34m=\u001b[0m\u001b[0;36m128\u001b[0m\u001b[0;34m,\u001b[0m \u001b[0mkernel_size\u001b[0m\u001b[0;34m=\u001b[0m\u001b[0;34m(\u001b[0m\u001b[0;36m3\u001b[0m\u001b[0;34m,\u001b[0m \u001b[0;36m3\u001b[0m\u001b[0;34m)\u001b[0m\u001b[0;34m,\u001b[0m \u001b[0mactivation\u001b[0m\u001b[0;34m=\u001b[0m\u001b[0;34m'relu'\u001b[0m\u001b[0;34m)\u001b[0m\u001b[0;34m)\u001b[0m\u001b[0;34m\u001b[0m\u001b[0;34m\u001b[0m\u001b[0m\n\u001b[0m\u001b[1;32m     15\u001b[0m \u001b[0mmodel\u001b[0m\u001b[0;34m.\u001b[0m\u001b[0madd\u001b[0m\u001b[0;34m(\u001b[0m\u001b[0mConv2D\u001b[0m\u001b[0;34m(\u001b[0m\u001b[0mfilters\u001b[0m\u001b[0;34m=\u001b[0m\u001b[0;36m128\u001b[0m\u001b[0;34m,\u001b[0m \u001b[0mkernel_size\u001b[0m\u001b[0;34m=\u001b[0m\u001b[0;34m(\u001b[0m\u001b[0;36m3\u001b[0m\u001b[0;34m,\u001b[0m \u001b[0;36m3\u001b[0m\u001b[0;34m)\u001b[0m\u001b[0;34m,\u001b[0m \u001b[0mactivation\u001b[0m\u001b[0;34m=\u001b[0m\u001b[0;34m'relu'\u001b[0m\u001b[0;34m)\u001b[0m\u001b[0;34m)\u001b[0m\u001b[0;34m\u001b[0m\u001b[0;34m\u001b[0m\u001b[0m\n\u001b[1;32m     16\u001b[0m \u001b[0mmodel\u001b[0m\u001b[0;34m.\u001b[0m\u001b[0madd\u001b[0m\u001b[0;34m(\u001b[0m\u001b[0mMaxPool2D\u001b[0m\u001b[0;34m(\u001b[0m\u001b[0mpool_size\u001b[0m\u001b[0;34m=\u001b[0m\u001b[0;34m(\u001b[0m\u001b[0;36m2\u001b[0m\u001b[0;34m,\u001b[0m \u001b[0;36m2\u001b[0m\u001b[0;34m)\u001b[0m\u001b[0;34m)\u001b[0m\u001b[0;34m)\u001b[0m\u001b[0;34m\u001b[0m\u001b[0;34m\u001b[0m\u001b[0m\n",
            "\u001b[0;32m/usr/local/lib/python3.10/dist-packages/tensorflow/python/trackable/base.py\u001b[0m in \u001b[0;36m_method_wrapper\u001b[0;34m(self, *args, **kwargs)\u001b[0m\n\u001b[1;32m    203\u001b[0m     \u001b[0mself\u001b[0m\u001b[0;34m.\u001b[0m\u001b[0m_self_setattr_tracking\u001b[0m \u001b[0;34m=\u001b[0m \u001b[0;32mFalse\u001b[0m  \u001b[0;31m# pylint: disable=protected-access\u001b[0m\u001b[0;34m\u001b[0m\u001b[0;34m\u001b[0m\u001b[0m\n\u001b[1;32m    204\u001b[0m     \u001b[0;32mtry\u001b[0m\u001b[0;34m:\u001b[0m\u001b[0;34m\u001b[0m\u001b[0;34m\u001b[0m\u001b[0m\n\u001b[0;32m--> 205\u001b[0;31m       \u001b[0mresult\u001b[0m \u001b[0;34m=\u001b[0m \u001b[0mmethod\u001b[0m\u001b[0;34m(\u001b[0m\u001b[0mself\u001b[0m\u001b[0;34m,\u001b[0m \u001b[0;34m*\u001b[0m\u001b[0margs\u001b[0m\u001b[0;34m,\u001b[0m \u001b[0;34m**\u001b[0m\u001b[0mkwargs\u001b[0m\u001b[0;34m)\u001b[0m\u001b[0;34m\u001b[0m\u001b[0;34m\u001b[0m\u001b[0m\n\u001b[0m\u001b[1;32m    206\u001b[0m     \u001b[0;32mfinally\u001b[0m\u001b[0;34m:\u001b[0m\u001b[0;34m\u001b[0m\u001b[0;34m\u001b[0m\u001b[0m\n\u001b[1;32m    207\u001b[0m       \u001b[0mself\u001b[0m\u001b[0;34m.\u001b[0m\u001b[0m_self_setattr_tracking\u001b[0m \u001b[0;34m=\u001b[0m \u001b[0mprevious_value\u001b[0m  \u001b[0;31m# pylint: disable=protected-access\u001b[0m\u001b[0;34m\u001b[0m\u001b[0;34m\u001b[0m\u001b[0m\n",
            "\u001b[0;32m/usr/local/lib/python3.10/dist-packages/keras/utils/traceback_utils.py\u001b[0m in \u001b[0;36merror_handler\u001b[0;34m(*args, **kwargs)\u001b[0m\n\u001b[1;32m     68\u001b[0m             \u001b[0;31m# To get the full stack trace, call:\u001b[0m\u001b[0;34m\u001b[0m\u001b[0;34m\u001b[0m\u001b[0m\n\u001b[1;32m     69\u001b[0m             \u001b[0;31m# `tf.debugging.disable_traceback_filtering()`\u001b[0m\u001b[0;34m\u001b[0m\u001b[0;34m\u001b[0m\u001b[0m\n\u001b[0;32m---> 70\u001b[0;31m             \u001b[0;32mraise\u001b[0m \u001b[0me\u001b[0m\u001b[0;34m.\u001b[0m\u001b[0mwith_traceback\u001b[0m\u001b[0;34m(\u001b[0m\u001b[0mfiltered_tb\u001b[0m\u001b[0;34m)\u001b[0m \u001b[0;32mfrom\u001b[0m \u001b[0;32mNone\u001b[0m\u001b[0;34m\u001b[0m\u001b[0;34m\u001b[0m\u001b[0m\n\u001b[0m\u001b[1;32m     71\u001b[0m         \u001b[0;32mfinally\u001b[0m\u001b[0;34m:\u001b[0m\u001b[0;34m\u001b[0m\u001b[0;34m\u001b[0m\u001b[0m\n\u001b[1;32m     72\u001b[0m             \u001b[0;32mdel\u001b[0m \u001b[0mfiltered_tb\u001b[0m\u001b[0;34m\u001b[0m\u001b[0;34m\u001b[0m\u001b[0m\n",
            "\u001b[0;32m/usr/local/lib/python3.10/dist-packages/keras/layers/convolutional/base_conv.py\u001b[0m in \u001b[0;36mcompute_output_shape\u001b[0;34m(self, input_shape)\u001b[0m\n\u001b[1;32m    352\u001b[0m \u001b[0;34m\u001b[0m\u001b[0m\n\u001b[1;32m    353\u001b[0m         \u001b[0;32mexcept\u001b[0m \u001b[0mValueError\u001b[0m\u001b[0;34m:\u001b[0m\u001b[0;34m\u001b[0m\u001b[0;34m\u001b[0m\u001b[0m\n\u001b[0;32m--> 354\u001b[0;31m             raise ValueError(\n\u001b[0m\u001b[1;32m    355\u001b[0m                 \u001b[0;34m\"One of the dimensions in the output is <= 0 \"\u001b[0m\u001b[0;34m\u001b[0m\u001b[0;34m\u001b[0m\u001b[0m\n\u001b[1;32m    356\u001b[0m                 \u001b[0;34mf\"due to downsampling in {self.name}. Consider \"\u001b[0m\u001b[0;34m\u001b[0m\u001b[0;34m\u001b[0m\u001b[0m\n",
            "\u001b[0;31mValueError\u001b[0m: One of the dimensions in the output is <= 0 due to downsampling in conv2d_81. Consider increasing the input size. Received input shape [None, 1, 1, 64] which would produce output shape with a zero or negative value in a dimension."
          ]
        }
      ],
      "source": [
        "#Building the model\n",
        "model = Sequential()\n",
        "model.add(Conv2D(filters=32, kernel_size=(5,5), activation='relu', input_shape=X_train.shape[1:]))\n",
        "model.add(Conv2D(filters=32, kernel_size=(5,5), activation='relu'))\n",
        "model.add(Conv2D(filters=32, kernel_size=(5,5), activation='relu')) # nueva\n",
        "model.add(MaxPool2D(pool_size=(3, 3)))\n",
        "model.add(Dropout(rate=0.25))\n",
        "\n",
        "model.add(Conv2D(filters=64, kernel_size=(3, 3), activation='relu'))\n",
        "model.add(Conv2D(filters=64, kernel_size=(3, 3), activation='relu'))\n",
        "model.add(MaxPool2D(pool_size=(2, 2)))\n",
        "model.add(Dropout(rate=0.25))\n",
        "\n",
        "model.add(Conv2D(filters=128, kernel_size=(3, 3), activation='relu'))\n",
        "model.add(Conv2D(filters=128, kernel_size=(3, 3), activation='relu'))\n",
        "model.add(MaxPool2D(pool_size=(2, 2)))\n",
        "model.add(Dropout(rate=0.25))\n",
        "\n",
        "model.add(Flatten())\n",
        "model.add(Dense(256, activation='relu'))\n",
        "model.add(Dropout(rate=0.5))\n",
        "model.add(Dense(43, activation='softmax'))"
      ]
    },
    {
      "cell_type": "code",
      "execution_count": null,
      "metadata": {
        "id": "kZLAQkqnyvBA"
      },
      "outputs": [],
      "source": [
        "#Compilation of the model\n",
        "model.compile(loss='categorical_crossentropy', optimizer='adam', metrics=['accuracy'])"
      ]
    },
    {
      "cell_type": "code",
      "execution_count": null,
      "metadata": {
        "colab": {
          "base_uri": "https://localhost:8080/"
        },
        "id": "t4hpfRNCyvBA",
        "outputId": "da79ec14-25ed-4bf1-f574-2cc3e903ddc6"
      },
      "outputs": [
        {
          "name": "stdout",
          "output_type": "stream",
          "text": [
            "Epoch 1/15\n",
            "316/316 [==============================] - 6s 10ms/step - loss: 3.2133 - accuracy: 0.1687 - val_loss: 1.9546 - val_accuracy: 0.4367\n",
            "Epoch 2/15\n",
            "316/316 [==============================] - 3s 9ms/step - loss: 1.8052 - accuracy: 0.4776 - val_loss: 0.9635 - val_accuracy: 0.7644\n",
            "Epoch 3/15\n",
            "316/316 [==============================] - 2s 7ms/step - loss: 1.0928 - accuracy: 0.6869 - val_loss: 0.4901 - val_accuracy: 0.8646\n",
            "Epoch 4/15\n",
            "316/316 [==============================] - 2s 7ms/step - loss: 0.7996 - accuracy: 0.7673 - val_loss: 0.3307 - val_accuracy: 0.9089\n",
            "Epoch 5/15\n",
            "316/316 [==============================] - 2s 7ms/step - loss: 0.6028 - accuracy: 0.8255 - val_loss: 0.2880 - val_accuracy: 0.9287\n",
            "Epoch 6/15\n",
            "316/316 [==============================] - 3s 8ms/step - loss: 0.4863 - accuracy: 0.8590 - val_loss: 0.1883 - val_accuracy: 0.9533\n",
            "Epoch 7/15\n",
            "316/316 [==============================] - 3s 9ms/step - loss: 0.4353 - accuracy: 0.8719 - val_loss: 0.1724 - val_accuracy: 0.9596\n",
            "Epoch 8/15\n",
            "316/316 [==============================] - 2s 7ms/step - loss: 0.3772 - accuracy: 0.8933 - val_loss: 0.1163 - val_accuracy: 0.9739\n",
            "Epoch 9/15\n",
            "316/316 [==============================] - 2s 7ms/step - loss: 0.3127 - accuracy: 0.9114 - val_loss: 0.0925 - val_accuracy: 0.9770\n",
            "Epoch 10/15\n",
            "316/316 [==============================] - 2s 7ms/step - loss: 0.3537 - accuracy: 0.9061 - val_loss: 0.0982 - val_accuracy: 0.9739\n",
            "Epoch 11/15\n",
            "316/316 [==============================] - 3s 8ms/step - loss: 0.3001 - accuracy: 0.9182 - val_loss: 0.0792 - val_accuracy: 0.9834\n",
            "Epoch 12/15\n",
            "316/316 [==============================] - 3s 9ms/step - loss: 0.3013 - accuracy: 0.9226 - val_loss: 0.0837 - val_accuracy: 0.9826\n",
            "Epoch 13/15\n",
            "316/316 [==============================] - 2s 7ms/step - loss: 0.2332 - accuracy: 0.9355 - val_loss: 0.0625 - val_accuracy: 0.9861\n",
            "Epoch 14/15\n",
            "316/316 [==============================] - 2s 7ms/step - loss: 0.2505 - accuracy: 0.9336 - val_loss: 0.0715 - val_accuracy: 0.9873\n",
            "Epoch 15/15\n",
            "316/316 [==============================] - 2s 7ms/step - loss: 0.2320 - accuracy: 0.9411 - val_loss: 0.0713 - val_accuracy: 0.9814\n"
          ]
        }
      ],
      "source": [
        "#Train & save model\n",
        "epochs = 15\n",
        "history = model.fit(X_train, y_train, batch_size=32, epochs=epochs, validation_data=(X_test, y_test))\n",
        "model.save(\"my_model.h5\")"
      ]
    },
    {
      "cell_type": "markdown",
      "metadata": {
        "id": "9PbrWJIYy0Go"
      },
      "source": [
        "# Evaluación del modelo entrenado"
      ]
    },
    {
      "cell_type": "code",
      "execution_count": null,
      "metadata": {
        "colab": {
          "base_uri": "https://localhost:8080/",
          "height": 472
        },
        "id": "N5QlOxgTy0Gp",
        "outputId": "5df59ec1-d31b-468d-edea-4050473e81f3"
      },
      "outputs": [
        {
          "data": {
            "image/png": "[encoded data removed]",
            "text/plain": [
              "<Figure size 640x480 with 1 Axes>"
            ]
          },
          "metadata": {},
          "output_type": "display_data"
        }
      ],
      "source": [
        "#plotting graphs for accuracy\n",
        "plt.figure(0)\n",
        "plt.plot(history.history['accuracy'], label='training accuracy')\n",
        "plt.plot(history.history['val_accuracy'], label='val accuracy')\n",
        "plt.title('Accuracy')\n",
        "plt.xlabel('epochs')\n",
        "plt.ylabel('accuracy')\n",
        "plt.legend()\n",
        "plt.show()"
      ]
    },
    {
      "cell_type": "code",
      "execution_count": null,
      "metadata": {
        "colab": {
          "base_uri": "https://localhost:8080/",
          "height": 489
        },
        "id": "KwdSG1fMy0Gp",
        "outputId": "775bb077-fca8-42b8-e62e-14d441c296ad"
      },
      "outputs": [
        {
          "data": {
            "text/plain": [
              "Text(0, 0.5, 'loss')"
            ]
          },
          "execution_count": 61,
          "metadata": {},
          "output_type": "execute_result"
        },
        {
          "data": {
            "image/png": "[encoded data removed]",
            "text/plain": [
              "<Figure size 640x480 with 1 Axes>"
            ]
          },
          "metadata": {},
          "output_type": "display_data"
        }
      ],
      "source": [
        "#Plot loss\n",
        "plt.figure(1)\n",
        "plt.plot(history.history['loss'], label='training loss')\n",
        "plt.plot(history.history['val_loss'], label='val loss')\n",
        "plt.title('Loss')\n",
        "plt.xlabel('epochs')\n",
        "plt.ylabel('loss')"
      ]
    },
    {
      "cell_type": "markdown",
      "metadata": {
        "id": "evgl23Lry0Gq"
      },
      "source": [
        "# Vericar con dataset de pruebas"
      ]
    },
    {
      "cell_type": "code",
      "execution_count": null,
      "metadata": {
        "id": "PqI_vTD3y0Gq"
      },
      "outputs": [],
      "source": [
        "#testing accuracy on test dataset\n",
        "from sklearn.metrics import accuracy_score\n",
        "y_test = pd.read_csv('Test.csv')\n",
        "labels = y_test[\"ClassId\"].values\n",
        "imgs = y_test[\"Path\"].values\n",
        "\n",
        "data=[]\n",
        "for img in imgs:\n",
        "    image = Image.open(img)\n",
        "    image = image.resize((30,30))\n",
        "    data.append(np.array(image))\n",
        "X_test=np.array(data)"
      ]
    },
    {
      "cell_type": "code",
      "execution_count": null,
      "metadata": {
        "colab": {
          "base_uri": "https://localhost:8080/"
        },
        "id": "_Lwqc6bdy0Gq",
        "outputId": "71bb6ec7-ee69-4e3a-bdfe-ba124fe53181"
      },
      "outputs": [
        {
          "name": "stdout",
          "output_type": "stream",
          "text": [
            "395/395 [==============================] - 1s 2ms/step\n"
          ]
        }
      ],
      "source": [
        "pred = (model.predict(X_test) > 0.8).astype(\"int32\")\n"
      ]
    },
    {
      "cell_type": "code",
      "execution_count": null,
      "metadata": {
        "colab": {
          "base_uri": "https://localhost:8080/"
        },
        "id": "uyRVa_RNy0Gq",
        "outputId": "21bf70be-4c83-43d6-c82d-bfd27f046a83"
      },
      "outputs": [
        {
          "name": "stdout",
          "output_type": "stream",
          "text": [
            "[16  1 38 ...  6  7 10]\n"
          ]
        }
      ],
      "source": [
        "print(labels)"
      ]
    },
    {
      "cell_type": "code",
      "execution_count": null,
      "metadata": {
        "colab": {
          "base_uri": "https://localhost:8080/"
        },
        "id": "juv7jhy-y0Gq",
        "outputId": "d4870ac7-3e96-4a68-8c6b-5b70bcd92d1f"
      },
      "outputs": [
        {
          "name": "stdout",
          "output_type": "stream",
          "text": [
            "395/395 [==============================] - 1s 2ms/step\n"
          ]
        }
      ],
      "source": [
        "# testing accuracy on test dataset\n",
        "from sklearn.metrics import accuracy_score\n",
        "\n",
        "# Importing the test dataset\n",
        "y_test = pd.read_csv('Test.csv')\n",
        "\n",
        "labels = y_test[\"ClassId\"].values\n",
        "imgs = y_test[\"Path\"].values\n",
        "\n",
        "data = []\n",
        "\n",
        "for img in imgs:\n",
        "    image = Image.open(img)\n",
        "    image = image.resize([30, 30])\n",
        "    data.append(np.array(image))\n",
        "\n",
        "X_test=np.array(data)\n",
        "\n",
        "pred = np.argmax(model.predict(X_test), axis=-1)\n"
      ]
    },
    {
      "cell_type": "code",
      "execution_count": null,
      "metadata": {
        "colab": {
          "base_uri": "https://localhost:8080/"
        },
        "id": "piwPvGQAy0Gr",
        "outputId": "e137863a-c584-4735-d164-1e50b468ce20"
      },
      "outputs": [
        {
          "name": "stdout",
          "output_type": "stream",
          "text": [
            "0.9880443388756928\n"
          ]
        }
      ],
      "source": [
        "#Accuracy with the test data\n",
        "from sklearn.metrics import accuracy_score\n",
        "print(accuracy_score(labels, pred))"
      ]
    },
    {
      "cell_type": "markdown",
      "metadata": {
        "id": "7vXQBCEGy0Gr"
      },
      "source": [
        "# Reporte de clasicación"
      ]
    },
    {
      "cell_type": "code",
      "execution_count": null,
      "metadata": {
        "colab": {
          "base_uri": "https://localhost:8080/"
        },
        "id": "-LFKG-Yhy0Gr",
        "outputId": "4b1fb045-7d8d-46f3-f170-750e90372247"
      },
      "outputs": [
        {
          "name": "stdout",
          "output_type": "stream",
          "text": [
            "              precision    recall  f1-score   support\n",
            "\n",
            "           0       0.98      0.95      0.97        60\n",
            "           1       0.99      0.99      0.99       720\n",
            "           2       1.00      0.97      0.99       750\n",
            "           3       0.97      0.98      0.98       450\n",
            "           4       0.98      1.00      0.99       660\n",
            "           5       0.98      0.97      0.98       630\n",
            "           6       0.88      1.00      0.94       150\n",
            "           7       0.97      0.99      0.98       450\n",
            "           8       0.97      0.98      0.97       450\n",
            "           9       0.99      1.00      0.99       480\n",
            "          10       1.00      0.99      0.99       660\n",
            "          11       1.00      1.00      1.00       420\n",
            "          12       1.00      0.99      1.00       690\n",
            "          13       1.00      1.00      1.00       720\n",
            "          14       1.00      1.00      1.00       270\n",
            "          15       0.99      1.00      0.99       210\n",
            "          16       1.00      0.97      0.99       150\n",
            "          17       1.00      1.00      1.00       360\n",
            "          18       0.99      1.00      1.00       390\n",
            "          19       0.98      0.97      0.97        60\n",
            "          20       1.00      0.98      0.99        90\n",
            "          21       1.00      0.99      0.99        90\n",
            "          22       1.00      0.98      0.99       120\n",
            "          23       1.00      0.98      0.99       150\n",
            "          24       0.94      0.97      0.95        90\n",
            "          25       1.00      1.00      1.00       480\n",
            "          26       1.00      0.99      1.00       180\n",
            "          27       1.00      0.98      0.99        60\n",
            "          28       0.98      0.99      0.99       150\n",
            "          29       0.96      1.00      0.98        90\n",
            "          30       0.96      0.94      0.95       150\n",
            "          31       0.99      1.00      0.99       270\n",
            "          32       0.95      0.68      0.80        60\n",
            "          33       1.00      1.00      1.00       210\n",
            "          34       0.99      0.99      0.99       120\n",
            "          35       1.00      1.00      1.00       390\n",
            "          36       1.00      0.99      1.00       120\n",
            "          37       0.98      1.00      0.99        60\n",
            "          38       1.00      0.99      0.99       690\n",
            "          39       1.00      0.99      0.99        90\n",
            "          40       0.96      0.97      0.96        90\n",
            "          41       1.00      1.00      1.00        60\n",
            "          42       0.99      1.00      0.99        90\n",
            "\n",
            "    accuracy                           0.99     12630\n",
            "   macro avg       0.98      0.98      0.98     12630\n",
            "weighted avg       0.99      0.99      0.99     12630\n",
            "\n"
          ]
        }
      ],
      "source": [
        "from sklearn.metrics import classification_report\n",
        "print(classification_report(labels, pred))"
      ]
    }
  ],
  "metadata": {
    "accelerator": "GPU",
    "colab": {
      "gpuType": "T4",
      "provenance": []
    },
    "kernelspec": {
      "display_name": "Python 3",
      "name": "python3"
    },
    "language_info": {
      "codemirror_mode": {
        "name": "ipython",
        "version": 3
      },
      "file_extension": ".py",
      "mimetype": "text/x-python",
      "name": "python",
      "nbconvert_exporter": "python",
      "pygments_lexer": "ipython3",
      "version": "3.11.1"
    }
  },
  "nbformat": 4,
  "nbformat_minor": 0
}
